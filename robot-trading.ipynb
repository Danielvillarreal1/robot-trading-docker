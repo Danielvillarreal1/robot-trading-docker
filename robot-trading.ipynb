{
 "cells": [
  {
   "cell_type": "code",
   "execution_count": null,
   "id": "6c30003b-9026-448c-8c4f-581634510420",
   "metadata": {},
   "outputs": [],
   "source": []
  },
  {
   "cell_type": "markdown",
   "id": "e891e73f-10f2-44f5-bbaa-7ca71b219ada",
   "metadata": {},
   "source": [
    "# 1. Configuración del ambiente"
   ]
  },
  {
   "cell_type": "code",
   "execution_count": 1,
   "id": "12e32243-f708-4da5-9696-a334c4465eb1",
   "metadata": {},
   "outputs": [
    {
     "name": "stdout",
     "output_type": "stream",
     "text": [
      "/bin/bash: python: command not found\n",
      "------\n",
      "Name: pandas\n",
      "Version: 2.0.3\n",
      "------\n",
      "Name: numpy\n",
      "Version: 1.24.4\n",
      "------\n",
      "Name: matplotlib\n",
      "Version: 3.7.5\n"
     ]
    }
   ],
   "source": [
    "!python -V\n",
    "print('------')\n",
    "!pip show Pandas | grep 'Name\\|Version'\n",
    "print('------')\n",
    "!pip show Numpy | grep 'Name\\|Version'\n",
    "print('------')\n",
    "!pip show Matplotlib | grep 'Name\\|Version'"
   ]
  },
  {
   "cell_type": "markdown",
   "id": "7bfaeca0-081d-4310-b0af-62d770855d86",
   "metadata": {},
   "source": [
    "## 1.1 importar librerias y definir variables globales"
   ]
  },
  {
   "cell_type": "code",
   "execution_count": 2,
   "id": "139e4ad5-687b-4f0a-85a3-e773ae440d98",
   "metadata": {},
   "outputs": [],
   "source": [
    "import datetime\n",
    "import pandas as pd\n",
    "import numpy as np\n",
    "import yfinance as yf"
   ]
  },
  {
   "cell_type": "code",
   "execution_count": 3,
   "id": "bd88892f-073d-491d-86c2-5466879ca507",
   "metadata": {},
   "outputs": [],
   "source": [
    "# Definir variables globales\n",
    "global df_bitcoin, precio_actual, tendencia, media_bitcoin, algoritmo_decision"
   ]
  },
  {
   "cell_type": "markdown",
   "id": "eb058699-d8b0-419a-84e3-c312ba480c5c",
   "metadata": {},
   "source": [
    "# 2. Obtención de datos"
   ]
  },
  {
   "cell_type": "markdown",
   "id": "dc485dee-bccd-47f1-827d-0f2cc4ee95f7",
   "metadata": {},
   "source": [
    "## 2.1 Precios historico del bitcoin"
   ]
  },
  {
   "cell_type": "code",
   "execution_count": 4,
   "id": "6b72d070-911a-40a1-a04b-f50fd99b84c1",
   "metadata": {},
   "outputs": [
    {
     "name": "stderr",
     "output_type": "stream",
     "text": [
      "[*********************100%***********************]  1 of 1 completed\n"
     ]
    }
   ],
   "source": [
    "def importar_base_bitcoin():\n",
    "    global df_bitcoin, precio_actual, tendencia, media_bitcoin, algoritmo_decision\n",
    "\n",
    "    symbol = 'BTC-USD'\n",
    "\n",
    "    # fecha de inicio y fin para los últimos 7 días\n",
    "    end_date = datetime.date.today()\n",
    "    start_date = end_date - datetime.timedelta(days=7)\n",
    "\n",
    "    # Descarga el precio histórico del bitcoin en intervalos de 5 minutos\n",
    "    data = yf.download(symbol, start=start_date, end=end_date, interval='5m')\n",
    "\n",
    "    # Pausa durante 5 minutos antes de la proxima actualización\n",
    "    #time.sleep(300)  # 300 segundos = 5 minutos\n",
    "    \n",
    "    df_bitcoin = pd.DataFrame(data)\n",
    "    #print(df_bitcoin)\n",
    "    \n",
    "importar_base_bitcoin()"
   ]
  },
  {
   "cell_type": "code",
   "execution_count": 5,
   "id": "a715403e-02af-4817-ac05-989ab12761f0",
   "metadata": {},
   "outputs": [
    {
     "data": {
      "text/html": [
       "<div>\n",
       "<style scoped>\n",
       "    .dataframe tbody tr th:only-of-type {\n",
       "        vertical-align: middle;\n",
       "    }\n",
       "\n",
       "    .dataframe tbody tr th {\n",
       "        vertical-align: top;\n",
       "    }\n",
       "\n",
       "    .dataframe thead th {\n",
       "        text-align: right;\n",
       "    }\n",
       "</style>\n",
       "<table border=\"1\" class=\"dataframe\">\n",
       "  <thead>\n",
       "    <tr style=\"text-align: right;\">\n",
       "      <th></th>\n",
       "      <th>Open</th>\n",
       "      <th>High</th>\n",
       "      <th>Low</th>\n",
       "      <th>Close</th>\n",
       "      <th>Adj Close</th>\n",
       "      <th>Volume</th>\n",
       "    </tr>\n",
       "    <tr>\n",
       "      <th>Datetime</th>\n",
       "      <th></th>\n",
       "      <th></th>\n",
       "      <th></th>\n",
       "      <th></th>\n",
       "      <th></th>\n",
       "      <th></th>\n",
       "    </tr>\n",
       "  </thead>\n",
       "  <tbody>\n",
       "    <tr>\n",
       "      <th>2024-10-09 00:00:00+00:00</th>\n",
       "      <td>62122.835938</td>\n",
       "      <td>62146.078125</td>\n",
       "      <td>62077.582031</td>\n",
       "      <td>62077.582031</td>\n",
       "      <td>62077.582031</td>\n",
       "      <td>0</td>\n",
       "    </tr>\n",
       "    <tr>\n",
       "      <th>2024-10-09 00:05:00+00:00</th>\n",
       "      <td>62109.308594</td>\n",
       "      <td>62109.308594</td>\n",
       "      <td>62094.464844</td>\n",
       "      <td>62094.464844</td>\n",
       "      <td>62094.464844</td>\n",
       "      <td>0</td>\n",
       "    </tr>\n",
       "    <tr>\n",
       "      <th>2024-10-09 00:10:00+00:00</th>\n",
       "      <td>62060.902344</td>\n",
       "      <td>62106.910156</td>\n",
       "      <td>62060.902344</td>\n",
       "      <td>62106.910156</td>\n",
       "      <td>62106.910156</td>\n",
       "      <td>0</td>\n",
       "    </tr>\n",
       "    <tr>\n",
       "      <th>2024-10-09 00:15:00+00:00</th>\n",
       "      <td>62113.429688</td>\n",
       "      <td>62131.031250</td>\n",
       "      <td>62110.515625</td>\n",
       "      <td>62131.031250</td>\n",
       "      <td>62131.031250</td>\n",
       "      <td>0</td>\n",
       "    </tr>\n",
       "    <tr>\n",
       "      <th>2024-10-09 00:20:00+00:00</th>\n",
       "      <td>62175.761719</td>\n",
       "      <td>62175.761719</td>\n",
       "      <td>62130.050781</td>\n",
       "      <td>62130.050781</td>\n",
       "      <td>62130.050781</td>\n",
       "      <td>0</td>\n",
       "    </tr>\n",
       "    <tr>\n",
       "      <th>...</th>\n",
       "      <td>...</td>\n",
       "      <td>...</td>\n",
       "      <td>...</td>\n",
       "      <td>...</td>\n",
       "      <td>...</td>\n",
       "      <td>...</td>\n",
       "    </tr>\n",
       "    <tr>\n",
       "      <th>2024-10-15 23:35:00+00:00</th>\n",
       "      <td>66863.562500</td>\n",
       "      <td>66930.796875</td>\n",
       "      <td>66863.562500</td>\n",
       "      <td>66920.546875</td>\n",
       "      <td>66920.546875</td>\n",
       "      <td>17133568</td>\n",
       "    </tr>\n",
       "    <tr>\n",
       "      <th>2024-10-15 23:40:00+00:00</th>\n",
       "      <td>66950.992188</td>\n",
       "      <td>67091.304688</td>\n",
       "      <td>66950.992188</td>\n",
       "      <td>67006.250000</td>\n",
       "      <td>67006.250000</td>\n",
       "      <td>74420224</td>\n",
       "    </tr>\n",
       "    <tr>\n",
       "      <th>2024-10-15 23:45:00+00:00</th>\n",
       "      <td>67011.023438</td>\n",
       "      <td>67090.562500</td>\n",
       "      <td>67011.023438</td>\n",
       "      <td>67048.359375</td>\n",
       "      <td>67048.359375</td>\n",
       "      <td>115445760</td>\n",
       "    </tr>\n",
       "    <tr>\n",
       "      <th>2024-10-15 23:50:00+00:00</th>\n",
       "      <td>67040.492188</td>\n",
       "      <td>67040.492188</td>\n",
       "      <td>66984.679688</td>\n",
       "      <td>66984.679688</td>\n",
       "      <td>66984.679688</td>\n",
       "      <td>26279936</td>\n",
       "    </tr>\n",
       "    <tr>\n",
       "      <th>2024-10-15 23:55:00+00:00</th>\n",
       "      <td>66976.812500</td>\n",
       "      <td>67039.351562</td>\n",
       "      <td>66976.812500</td>\n",
       "      <td>67039.351562</td>\n",
       "      <td>67039.351562</td>\n",
       "      <td>34799616</td>\n",
       "    </tr>\n",
       "  </tbody>\n",
       "</table>\n",
       "<p>2016 rows × 6 columns</p>\n",
       "</div>"
      ],
      "text/plain": [
       "                                   Open          High           Low  \\\n",
       "Datetime                                                              \n",
       "2024-10-09 00:00:00+00:00  62122.835938  62146.078125  62077.582031   \n",
       "2024-10-09 00:05:00+00:00  62109.308594  62109.308594  62094.464844   \n",
       "2024-10-09 00:10:00+00:00  62060.902344  62106.910156  62060.902344   \n",
       "2024-10-09 00:15:00+00:00  62113.429688  62131.031250  62110.515625   \n",
       "2024-10-09 00:20:00+00:00  62175.761719  62175.761719  62130.050781   \n",
       "...                                 ...           ...           ...   \n",
       "2024-10-15 23:35:00+00:00  66863.562500  66930.796875  66863.562500   \n",
       "2024-10-15 23:40:00+00:00  66950.992188  67091.304688  66950.992188   \n",
       "2024-10-15 23:45:00+00:00  67011.023438  67090.562500  67011.023438   \n",
       "2024-10-15 23:50:00+00:00  67040.492188  67040.492188  66984.679688   \n",
       "2024-10-15 23:55:00+00:00  66976.812500  67039.351562  66976.812500   \n",
       "\n",
       "                                  Close     Adj Close     Volume  \n",
       "Datetime                                                          \n",
       "2024-10-09 00:00:00+00:00  62077.582031  62077.582031          0  \n",
       "2024-10-09 00:05:00+00:00  62094.464844  62094.464844          0  \n",
       "2024-10-09 00:10:00+00:00  62106.910156  62106.910156          0  \n",
       "2024-10-09 00:15:00+00:00  62131.031250  62131.031250          0  \n",
       "2024-10-09 00:20:00+00:00  62130.050781  62130.050781          0  \n",
       "...                                 ...           ...        ...  \n",
       "2024-10-15 23:35:00+00:00  66920.546875  66920.546875   17133568  \n",
       "2024-10-15 23:40:00+00:00  67006.250000  67006.250000   74420224  \n",
       "2024-10-15 23:45:00+00:00  67048.359375  67048.359375  115445760  \n",
       "2024-10-15 23:50:00+00:00  66984.679688  66984.679688   26279936  \n",
       "2024-10-15 23:55:00+00:00  67039.351562  67039.351562   34799616  \n",
       "\n",
       "[2016 rows x 6 columns]"
      ]
     },
     "execution_count": 5,
     "metadata": {},
     "output_type": "execute_result"
    }
   ],
   "source": [
    "df_bitcoin"
   ]
  },
  {
   "cell_type": "markdown",
   "id": "c937ec45-227d-4b46-85d4-567d05596d6e",
   "metadata": {},
   "source": [
    "## 2.2 Scraping Precio bitcoin de coinmarketcap"
   ]
  },
  {
   "cell_type": "code",
   "execution_count": 6,
   "id": "4f1487f5-70e4-4cf4-b172-dedbc987a166",
   "metadata": {},
   "outputs": [
    {
     "name": "stdout",
     "output_type": "stream",
     "text": [
      "Nombre: Bitcoin\n",
      "Precio_actual: 67702.95\n",
      "Tendencia: alta\n"
     ]
    }
   ],
   "source": [
    "def extraer_tendencias():\n",
    "    global df_bitcoin, precio_actual, tendencia, media_bitcoin, algoritmo_decision\n",
    "    \n",
    "    from bs4 import BeautifulSoup\n",
    "    import requests\n",
    "\n",
    "    ua = {\"User-Agent\": \"Mozilla/5.0 (Windows NT 10.0; Win64; x64) AppleWebKit/537.36 (KHTML, like Gecko) Chrome/92.0.4515.107 Safari/537.36 Edg/92.0.902.62 (compatible; Linux; Ubuntu; MacOS; Windows)\"}\n",
    "    website = 'https://coinmarketcap.com/'\n",
    "    # Get Request\n",
    "    response = requests.get(website)\n",
    "  \n",
    "    # Soup Object\n",
    "    soup = BeautifulSoup(response.content, 'html.parser')\n",
    "\n",
    "    # Extraer el nombre de Bitcoin\n",
    "    nombre = soup.find('p', class_='sc-65e7f566-0 iPbTJf coin-item-name').text\n",
    "                                    \n",
    "    # Extraer el precio de Bitcoin\n",
    "    precio_actual = soup.find('div', class_='sc-b3fc6b7-0 dzgUIj').text\n",
    "    # Eliminar el signo de dólar, la coma y convertir a float\n",
    "    precio_actual = float(precio_actual.replace('$', '').replace(',', ''))\n",
    "\n",
    "    # Extraer variación\n",
    "    variación = soup.find('span', class_='sc-a59753b0-0 ivvJzO').text\n",
    "\n",
    "    # Determinar la tendencia (baja o alta) en función del porcentaje de variación, elimina (%)\n",
    "    porcentaje = float(variación.strip('%'))\n",
    "    if porcentaje < 0:\n",
    "        tendencia = 'baja'\n",
    "    else:\n",
    "        tendencia = 'alta'\n",
    "\n",
    "    # Imprimir el nombre, el precio y la tendencia\n",
    "    print(f\"Nombre: {nombre}\")\n",
    "    print(f\"Precio_actual: {precio_actual}\")\n",
    "    print(f\"Tendencia: {tendencia}\")\n",
    "\n",
    "extraer_tendencias()\n"
   ]
  },
  {
   "cell_type": "code",
   "execution_count": null,
   "id": "3300cdc6-4489-46a3-a806-1715fb893504",
   "metadata": {},
   "outputs": [],
   "source": []
  },
  {
   "cell_type": "code",
   "execution_count": 7,
   "id": "36ab7647-3482-4979-a277-a761f2490038",
   "metadata": {},
   "outputs": [
    {
     "name": "stdout",
     "output_type": "stream",
     "text": [
      "Nombre: Bitcoin\n",
      "Precio_actual: 67702.95\n",
      "Variación: 0.01%\n",
      "clase_tendencia: alta\n"
     ]
    }
   ],
   "source": [
    "from bs4 import BeautifulSoup\n",
    "import requests\n",
    "\n",
    "#ua = {\"User-Agent\":\"Mozilla/5.0 (Windows NT 10.0; Win64; x64) AppleWebKit/537.36 (KHTML, like Gecko) Chrome/92.0.4515.107 Safari/537.36 Edg/92.0.902.62\"}\n",
    "\n",
    "ua = {\"User-Agent\": \"Mozilla/5.0 (Windows NT 10.0; Win64; x64) AppleWebKit/537.36 (KHTML, like Gecko) Chrome/92.0.4515.107 Safari/537.36 Edg/92.0.902.62 (compatible; Linux; Ubuntu; MacOS; Windows)\"}\n",
    "website = 'https://coinmarketcap.com/'\n",
    "#Get Reques\n",
    "response = requests.get(website)\n",
    "#Status Code\n",
    "response.status_code\n",
    "#Soup Object\n",
    "soup = BeautifulSoup(response.content, 'html.parser')\n",
    "\n",
    "# Extraer el nombre de Bitcoin\n",
    "nombre = soup.find('p', class_='sc-65e7f566-0 iPbTJf coin-item-name').text\n",
    "\n",
    "# Extraer el precio de Bitcoin\n",
    "precio_actual = soup.find('div', class_='sc-b3fc6b7-0 dzgUIj').text\n",
    "# Eliminar el signo de dólar y la coma y convertir a punto flotante\n",
    "precio_actual = float(precio_actual.replace('$', '').replace(',', ''))\n",
    "\n",
    "\n",
    "variación = soup.find('span', class_='sc-a59753b0-0 ivvJzO').text\n",
    "#tendencia = soup.find('span', class_='icon-Caret-up').text\n",
    "\n",
    "clase_tendencia = soup.find('span', class_='sc-a59753b0-0 cmnujh').text\n",
    "\n",
    "if clase_tendencia==\"icon-Caret-up\":\n",
    "         tendencia=\"alta\"\n",
    "if clase_tendencia==\"icon-Caret-down\":\n",
    "         tendencia=\"baja\"\n",
    "        \n",
    "# Imprimir el nombre y el precio\n",
    "print(f\"Nombre: {nombre}\")\n",
    "print(f\"Precio_actual: {precio_actual}\")\n",
    "print(f\"Variación: {variación}\")\n",
    "print(f\"clase_tendencia: {tendencia}\")"
   ]
  },
  {
   "cell_type": "markdown",
   "id": "59a9f92a-c457-437b-802d-039717777c3b",
   "metadata": {},
   "source": [
    "# 3. Limpieza de datos"
   ]
  },
  {
   "cell_type": "code",
   "execution_count": 8,
   "id": "07bf906e-b1d6-4537-b74e-d1737c8d7c8c",
   "metadata": {},
   "outputs": [
    {
     "data": {
      "text/html": [
       "<div>\n",
       "<style scoped>\n",
       "    .dataframe tbody tr th:only-of-type {\n",
       "        vertical-align: middle;\n",
       "    }\n",
       "\n",
       "    .dataframe tbody tr th {\n",
       "        vertical-align: top;\n",
       "    }\n",
       "\n",
       "    .dataframe thead th {\n",
       "        text-align: right;\n",
       "    }\n",
       "</style>\n",
       "<table border=\"1\" class=\"dataframe\">\n",
       "  <thead>\n",
       "    <tr style=\"text-align: right;\">\n",
       "      <th></th>\n",
       "      <th>Open</th>\n",
       "      <th>High</th>\n",
       "      <th>Low</th>\n",
       "      <th>Close</th>\n",
       "      <th>Adj Close</th>\n",
       "      <th>Volume</th>\n",
       "    </tr>\n",
       "    <tr>\n",
       "      <th>Datetime</th>\n",
       "      <th></th>\n",
       "      <th></th>\n",
       "      <th></th>\n",
       "      <th></th>\n",
       "      <th></th>\n",
       "      <th></th>\n",
       "    </tr>\n",
       "  </thead>\n",
       "  <tbody>\n",
       "    <tr>\n",
       "      <th>2024-10-09 00:00:00+00:00</th>\n",
       "      <td>62122.835938</td>\n",
       "      <td>62146.078125</td>\n",
       "      <td>62077.582031</td>\n",
       "      <td>62077.582031</td>\n",
       "      <td>62077.582031</td>\n",
       "      <td>0</td>\n",
       "    </tr>\n",
       "    <tr>\n",
       "      <th>2024-10-09 00:05:00+00:00</th>\n",
       "      <td>62109.308594</td>\n",
       "      <td>62109.308594</td>\n",
       "      <td>62094.464844</td>\n",
       "      <td>62094.464844</td>\n",
       "      <td>62094.464844</td>\n",
       "      <td>0</td>\n",
       "    </tr>\n",
       "    <tr>\n",
       "      <th>2024-10-09 00:10:00+00:00</th>\n",
       "      <td>62060.902344</td>\n",
       "      <td>62106.910156</td>\n",
       "      <td>62060.902344</td>\n",
       "      <td>62106.910156</td>\n",
       "      <td>62106.910156</td>\n",
       "      <td>0</td>\n",
       "    </tr>\n",
       "    <tr>\n",
       "      <th>2024-10-09 00:15:00+00:00</th>\n",
       "      <td>62113.429688</td>\n",
       "      <td>62131.031250</td>\n",
       "      <td>62110.515625</td>\n",
       "      <td>62131.031250</td>\n",
       "      <td>62131.031250</td>\n",
       "      <td>0</td>\n",
       "    </tr>\n",
       "    <tr>\n",
       "      <th>2024-10-09 00:20:00+00:00</th>\n",
       "      <td>62175.761719</td>\n",
       "      <td>62175.761719</td>\n",
       "      <td>62130.050781</td>\n",
       "      <td>62130.050781</td>\n",
       "      <td>62130.050781</td>\n",
       "      <td>0</td>\n",
       "    </tr>\n",
       "    <tr>\n",
       "      <th>...</th>\n",
       "      <td>...</td>\n",
       "      <td>...</td>\n",
       "      <td>...</td>\n",
       "      <td>...</td>\n",
       "      <td>...</td>\n",
       "      <td>...</td>\n",
       "    </tr>\n",
       "    <tr>\n",
       "      <th>2024-10-15 23:35:00+00:00</th>\n",
       "      <td>66863.562500</td>\n",
       "      <td>66930.796875</td>\n",
       "      <td>66863.562500</td>\n",
       "      <td>66920.546875</td>\n",
       "      <td>66920.546875</td>\n",
       "      <td>17133568</td>\n",
       "    </tr>\n",
       "    <tr>\n",
       "      <th>2024-10-15 23:40:00+00:00</th>\n",
       "      <td>66950.992188</td>\n",
       "      <td>67091.304688</td>\n",
       "      <td>66950.992188</td>\n",
       "      <td>67006.250000</td>\n",
       "      <td>67006.250000</td>\n",
       "      <td>74420224</td>\n",
       "    </tr>\n",
       "    <tr>\n",
       "      <th>2024-10-15 23:45:00+00:00</th>\n",
       "      <td>67011.023438</td>\n",
       "      <td>67090.562500</td>\n",
       "      <td>67011.023438</td>\n",
       "      <td>67048.359375</td>\n",
       "      <td>67048.359375</td>\n",
       "      <td>115445760</td>\n",
       "    </tr>\n",
       "    <tr>\n",
       "      <th>2024-10-15 23:50:00+00:00</th>\n",
       "      <td>67040.492188</td>\n",
       "      <td>67040.492188</td>\n",
       "      <td>66984.679688</td>\n",
       "      <td>66984.679688</td>\n",
       "      <td>66984.679688</td>\n",
       "      <td>26279936</td>\n",
       "    </tr>\n",
       "    <tr>\n",
       "      <th>2024-10-15 23:55:00+00:00</th>\n",
       "      <td>66976.812500</td>\n",
       "      <td>67039.351562</td>\n",
       "      <td>66976.812500</td>\n",
       "      <td>67039.351562</td>\n",
       "      <td>67039.351562</td>\n",
       "      <td>34799616</td>\n",
       "    </tr>\n",
       "  </tbody>\n",
       "</table>\n",
       "<p>2016 rows × 6 columns</p>\n",
       "</div>"
      ],
      "text/plain": [
       "                                   Open          High           Low  \\\n",
       "Datetime                                                              \n",
       "2024-10-09 00:00:00+00:00  62122.835938  62146.078125  62077.582031   \n",
       "2024-10-09 00:05:00+00:00  62109.308594  62109.308594  62094.464844   \n",
       "2024-10-09 00:10:00+00:00  62060.902344  62106.910156  62060.902344   \n",
       "2024-10-09 00:15:00+00:00  62113.429688  62131.031250  62110.515625   \n",
       "2024-10-09 00:20:00+00:00  62175.761719  62175.761719  62130.050781   \n",
       "...                                 ...           ...           ...   \n",
       "2024-10-15 23:35:00+00:00  66863.562500  66930.796875  66863.562500   \n",
       "2024-10-15 23:40:00+00:00  66950.992188  67091.304688  66950.992188   \n",
       "2024-10-15 23:45:00+00:00  67011.023438  67090.562500  67011.023438   \n",
       "2024-10-15 23:50:00+00:00  67040.492188  67040.492188  66984.679688   \n",
       "2024-10-15 23:55:00+00:00  66976.812500  67039.351562  66976.812500   \n",
       "\n",
       "                                  Close     Adj Close     Volume  \n",
       "Datetime                                                          \n",
       "2024-10-09 00:00:00+00:00  62077.582031  62077.582031          0  \n",
       "2024-10-09 00:05:00+00:00  62094.464844  62094.464844          0  \n",
       "2024-10-09 00:10:00+00:00  62106.910156  62106.910156          0  \n",
       "2024-10-09 00:15:00+00:00  62131.031250  62131.031250          0  \n",
       "2024-10-09 00:20:00+00:00  62130.050781  62130.050781          0  \n",
       "...                                 ...           ...        ...  \n",
       "2024-10-15 23:35:00+00:00  66920.546875  66920.546875   17133568  \n",
       "2024-10-15 23:40:00+00:00  67006.250000  67006.250000   74420224  \n",
       "2024-10-15 23:45:00+00:00  67048.359375  67048.359375  115445760  \n",
       "2024-10-15 23:50:00+00:00  66984.679688  66984.679688   26279936  \n",
       "2024-10-15 23:55:00+00:00  67039.351562  67039.351562   34799616  \n",
       "\n",
       "[2016 rows x 6 columns]"
      ]
     },
     "execution_count": 8,
     "metadata": {},
     "output_type": "execute_result"
    }
   ],
   "source": [
    "# df antes de eliminar volumen mayo a 0\n",
    "df_bitcoin"
   ]
  },
  {
   "cell_type": "code",
   "execution_count": 9,
   "id": "726305b3-9875-4ba2-aac9-b73c6650a66f",
   "metadata": {},
   "outputs": [
    {
     "data": {
      "text/plain": [
       "Open         0\n",
       "High         0\n",
       "Low          0\n",
       "Close        0\n",
       "Adj Close    0\n",
       "Volume       0\n",
       "dtype: int64"
      ]
     },
     "execution_count": 9,
     "metadata": {},
     "output_type": "execute_result"
    }
   ],
   "source": [
    "df_bitcoin.isnull().sum()"
   ]
  },
  {
   "cell_type": "code",
   "execution_count": 10,
   "id": "a971883a-f669-4683-a99e-0994751d273f",
   "metadata": {},
   "outputs": [
    {
     "name": "stdout",
     "output_type": "stream",
     "text": [
      "[False False False ... False False False]\n",
      "Valores nulos en Close: 0\n"
     ]
    },
    {
     "data": {
      "image/png": "[encoded data removed]",
      "text/plain": [
       "<Figure size 800x600 with 1 Axes>"
      ]
     },
     "metadata": {},
     "output_type": "display_data"
    },
    {
     "name": "stdout",
     "output_type": "stream",
     "text": [
      "cuantil 1 : 61213.140625\n",
      "cuantil 3 : 64913.83203125\n"
     ]
    },
    {
     "data": {
      "image/png": "[encoded data removed]",
      "text/plain": [
       "<Figure size 800x600 with 1 Axes>"
      ]
     },
     "metadata": {},
     "output_type": "display_data"
    },
    {
     "name": "stdout",
     "output_type": "stream",
     "text": [
      "Precio promedio bitcoin:  62918.98563415751\n"
     ]
    }
   ],
   "source": [
    "def limpieza_datos():\n",
    "    global df_bitcoin, precio_actual, tendencia, media_bitcoin, algoritmo_decision, df_bitcoin_limpio\n",
    "    import numpy as np\n",
    "\n",
    "    df_bitcoin_limpio = df_bitcoin.copy()\n",
    "\n",
    "    # Identificar valores duplicados en el índice\n",
    "    valores_duplicados_en_indice = df_bitcoin_limpio.index.duplicated()\n",
    "    print(valores_duplicados_en_indice)\n",
    "\n",
    "    # Eliminar los valores duplicados en el índice\n",
    "    df_bitcoin_limpio = df_bitcoin_limpio[~df_bitcoin_limpio.index.duplicated(keep='first')]\n",
    "    #df_bitcoin_limpio = df_bitcoin_limpio.drop_duplicates(keep='first')\n",
    "\n",
    "    # verificar y ver los valores nulos en la columna \n",
    "    df_bitcoin_nulos = df_bitcoin_limpio['Close'].isnull().sum()\n",
    "    print(\"Valores nulos en Close:\", df_bitcoin_nulos)\n",
    "    # Elimina valores nulos en la columna Close\n",
    "    df_bitcoin_limpio = df_bitcoin_limpio.dropna(subset=['Close'])\n",
    "\n",
    "\n",
    "    # Filtra los registros con Volumen mayor a 0\n",
    "    df_bitcoin_limpio = df_bitcoin_limpio[df_bitcoin_limpio['Volume'] > 0]\n",
    "\n",
    "    # crea un grafico de caja de la columna close\n",
    "    import matplotlib.pyplot as plt\n",
    "    plt.figure(figsize=(8, 6))\n",
    "    plt.boxplot(df_bitcoin_limpio['Close'], vert=True)\n",
    "    plt.ylabel('Precio de Cierre (Close)')\n",
    "    plt.title('Boxplot del Precio de Cierre de Bitcoin')\n",
    "    plt.show()\n",
    "\n",
    "    # Calcula los cuartiles Q1 y Q3 \n",
    "    Q1 = df_bitcoin_limpio['Close'].quantile(0.25)\n",
    "    Q3 = df_bitcoin_limpio['Close'].quantile(0.75)\n",
    "    print(\"cuantil 1 :\", Q1)\n",
    "    print(\"cuantil 3 :\", Q3)\n",
    "    # Filtra para tener un precio de cierre entre Q1 y Q3\n",
    "    df_bitcoin_limpio = df_bitcoin_limpio[(df_bitcoin_limpio['Close'] >= Q1) & (df_bitcoin_limpio['Close'] <= Q3)]\n",
    "    # grafico el df con los valores entre q1 y q3\n",
    "    plt.figure(figsize=(8, 6))\n",
    "    plt.boxplot(df_bitcoin_limpio['Close'], vert=True)\n",
    "    plt.ylabel('Precio de Cierre (Close)')\n",
    "    plt.title('Boxplot del Precio de Cierre de Bitcoin entre Q1 y Q3')\n",
    "    plt.show()\n",
    "\n",
    "    # Calcula el precio promedio de la columna close\n",
    "    media_bitcoin = df_bitcoin_limpio['Close'].mean()\n",
    "    print(\"Precio promedio bitcoin: \", media_bitcoin)\n",
    "limpieza_datos()    "
   ]
  },
  {
   "cell_type": "code",
   "execution_count": 11,
   "id": "0499642c-5362-46d3-86cf-abdffc01714b",
   "metadata": {},
   "outputs": [
    {
     "data": {
      "text/html": [
       "<div>\n",
       "<style scoped>\n",
       "    .dataframe tbody tr th:only-of-type {\n",
       "        vertical-align: middle;\n",
       "    }\n",
       "\n",
       "    .dataframe tbody tr th {\n",
       "        vertical-align: top;\n",
       "    }\n",
       "\n",
       "    .dataframe thead th {\n",
       "        text-align: right;\n",
       "    }\n",
       "</style>\n",
       "<table border=\"1\" class=\"dataframe\">\n",
       "  <thead>\n",
       "    <tr style=\"text-align: right;\">\n",
       "      <th></th>\n",
       "      <th>Open</th>\n",
       "      <th>High</th>\n",
       "      <th>Low</th>\n",
       "      <th>Close</th>\n",
       "      <th>Adj Close</th>\n",
       "      <th>Volume</th>\n",
       "    </tr>\n",
       "    <tr>\n",
       "      <th>Datetime</th>\n",
       "      <th></th>\n",
       "      <th></th>\n",
       "      <th></th>\n",
       "      <th></th>\n",
       "      <th></th>\n",
       "      <th></th>\n",
       "    </tr>\n",
       "  </thead>\n",
       "  <tbody>\n",
       "    <tr>\n",
       "      <th>2024-10-09 00:40:00+00:00</th>\n",
       "      <td>62016.199219</td>\n",
       "      <td>62029.078125</td>\n",
       "      <td>62008.777344</td>\n",
       "      <td>62029.078125</td>\n",
       "      <td>62029.078125</td>\n",
       "      <td>39301120</td>\n",
       "    </tr>\n",
       "    <tr>\n",
       "      <th>2024-10-09 00:45:00+00:00</th>\n",
       "      <td>62023.675781</td>\n",
       "      <td>62102.351562</td>\n",
       "      <td>62009.761719</td>\n",
       "      <td>62102.351562</td>\n",
       "      <td>62102.351562</td>\n",
       "      <td>63232000</td>\n",
       "    </tr>\n",
       "    <tr>\n",
       "      <th>2024-10-09 00:50:00+00:00</th>\n",
       "      <td>62103.277344</td>\n",
       "      <td>62103.277344</td>\n",
       "      <td>62048.085938</td>\n",
       "      <td>62052.253906</td>\n",
       "      <td>62052.253906</td>\n",
       "      <td>73728000</td>\n",
       "    </tr>\n",
       "    <tr>\n",
       "      <th>2024-10-09 00:55:00+00:00</th>\n",
       "      <td>62075.246094</td>\n",
       "      <td>62088.054688</td>\n",
       "      <td>62075.246094</td>\n",
       "      <td>62082.085938</td>\n",
       "      <td>62082.085938</td>\n",
       "      <td>18016256</td>\n",
       "    </tr>\n",
       "    <tr>\n",
       "      <th>2024-10-09 01:05:00+00:00</th>\n",
       "      <td>62105.019531</td>\n",
       "      <td>62163.234375</td>\n",
       "      <td>62105.019531</td>\n",
       "      <td>62163.234375</td>\n",
       "      <td>62163.234375</td>\n",
       "      <td>27015168</td>\n",
       "    </tr>\n",
       "    <tr>\n",
       "      <th>...</th>\n",
       "      <td>...</td>\n",
       "      <td>...</td>\n",
       "      <td>...</td>\n",
       "      <td>...</td>\n",
       "      <td>...</td>\n",
       "      <td>...</td>\n",
       "    </tr>\n",
       "    <tr>\n",
       "      <th>2024-10-14 13:15:00+00:00</th>\n",
       "      <td>64799.371094</td>\n",
       "      <td>64859.890625</td>\n",
       "      <td>64792.363281</td>\n",
       "      <td>64828.894531</td>\n",
       "      <td>64828.894531</td>\n",
       "      <td>47104000</td>\n",
       "    </tr>\n",
       "    <tr>\n",
       "      <th>2024-10-14 13:20:00+00:00</th>\n",
       "      <td>64800.925781</td>\n",
       "      <td>64802.519531</td>\n",
       "      <td>64756.597656</td>\n",
       "      <td>64756.597656</td>\n",
       "      <td>64756.597656</td>\n",
       "      <td>94691328</td>\n",
       "    </tr>\n",
       "    <tr>\n",
       "      <th>2024-10-14 13:25:00+00:00</th>\n",
       "      <td>64766.703125</td>\n",
       "      <td>64766.703125</td>\n",
       "      <td>64669.683594</td>\n",
       "      <td>64702.781250</td>\n",
       "      <td>64702.781250</td>\n",
       "      <td>35827712</td>\n",
       "    </tr>\n",
       "    <tr>\n",
       "      <th>2024-10-14 13:30:00+00:00</th>\n",
       "      <td>64688.687500</td>\n",
       "      <td>64748.613281</td>\n",
       "      <td>64663.050781</td>\n",
       "      <td>64697.531250</td>\n",
       "      <td>64697.531250</td>\n",
       "      <td>78227456</td>\n",
       "    </tr>\n",
       "    <tr>\n",
       "      <th>2024-10-14 13:35:00+00:00</th>\n",
       "      <td>64649.046875</td>\n",
       "      <td>64712.753906</td>\n",
       "      <td>64649.046875</td>\n",
       "      <td>64712.753906</td>\n",
       "      <td>64712.753906</td>\n",
       "      <td>126638080</td>\n",
       "    </tr>\n",
       "  </tbody>\n",
       "</table>\n",
       "<p>546 rows × 6 columns</p>\n",
       "</div>"
      ],
      "text/plain": [
       "                                   Open          High           Low  \\\n",
       "Datetime                                                              \n",
       "2024-10-09 00:40:00+00:00  62016.199219  62029.078125  62008.777344   \n",
       "2024-10-09 00:45:00+00:00  62023.675781  62102.351562  62009.761719   \n",
       "2024-10-09 00:50:00+00:00  62103.277344  62103.277344  62048.085938   \n",
       "2024-10-09 00:55:00+00:00  62075.246094  62088.054688  62075.246094   \n",
       "2024-10-09 01:05:00+00:00  62105.019531  62163.234375  62105.019531   \n",
       "...                                 ...           ...           ...   \n",
       "2024-10-14 13:15:00+00:00  64799.371094  64859.890625  64792.363281   \n",
       "2024-10-14 13:20:00+00:00  64800.925781  64802.519531  64756.597656   \n",
       "2024-10-14 13:25:00+00:00  64766.703125  64766.703125  64669.683594   \n",
       "2024-10-14 13:30:00+00:00  64688.687500  64748.613281  64663.050781   \n",
       "2024-10-14 13:35:00+00:00  64649.046875  64712.753906  64649.046875   \n",
       "\n",
       "                                  Close     Adj Close     Volume  \n",
       "Datetime                                                          \n",
       "2024-10-09 00:40:00+00:00  62029.078125  62029.078125   39301120  \n",
       "2024-10-09 00:45:00+00:00  62102.351562  62102.351562   63232000  \n",
       "2024-10-09 00:50:00+00:00  62052.253906  62052.253906   73728000  \n",
       "2024-10-09 00:55:00+00:00  62082.085938  62082.085938   18016256  \n",
       "2024-10-09 01:05:00+00:00  62163.234375  62163.234375   27015168  \n",
       "...                                 ...           ...        ...  \n",
       "2024-10-14 13:15:00+00:00  64828.894531  64828.894531   47104000  \n",
       "2024-10-14 13:20:00+00:00  64756.597656  64756.597656   94691328  \n",
       "2024-10-14 13:25:00+00:00  64702.781250  64702.781250   35827712  \n",
       "2024-10-14 13:30:00+00:00  64697.531250  64697.531250   78227456  \n",
       "2024-10-14 13:35:00+00:00  64712.753906  64712.753906  126638080  \n",
       "\n",
       "[546 rows x 6 columns]"
      ]
     },
     "execution_count": 11,
     "metadata": {},
     "output_type": "execute_result"
    }
   ],
   "source": [
    "# df despues de eliminar volumen mayo a 0\n",
    "df_bitcoin_limpio"
   ]
  },
  {
   "cell_type": "code",
   "execution_count": 12,
   "id": "012f9f52-b259-4679-9a0a-f8262b6a5dac",
   "metadata": {},
   "outputs": [
    {
     "data": {
      "text/plain": [
       "0"
      ]
     },
     "execution_count": 12,
     "metadata": {},
     "output_type": "execute_result"
    }
   ],
   "source": [
    "# Contar cuantos datos duplicados existen\n",
    "df_bitcoin_limpio.duplicated().sum()"
   ]
  },
  {
   "cell_type": "markdown",
   "id": "340f180d-2ac5-4409-ad61-c3303a2e85da",
   "metadata": {},
   "source": [
    "# 4. Tomar decisiones"
   ]
  },
  {
   "cell_type": "code",
   "execution_count": 13,
   "id": "68b4f4df-6282-4275-b398-7d6b55ada6ef",
   "metadata": {},
   "outputs": [
    {
     "ename": "SyntaxError",
     "evalue": "invalid syntax (1316734583.py, line 1)",
     "output_type": "error",
     "traceback": [
      "\u001b[0;36m  Cell \u001b[0;32mIn[13], line 1\u001b[0;36m\u001b[0m\n\u001b[0;31m    Rellena la variable algoritmo_decision con el valor resultante del siguiente criterio de decisión:\u001b[0m\n\u001b[0m            ^\u001b[0m\n\u001b[0;31mSyntaxError\u001b[0m\u001b[0;31m:\u001b[0m invalid syntax\n"
     ]
    }
   ],
   "source": [
    "Rellena la variable algoritmo_decision con el valor resultante del siguiente criterio de decisión:\n",
    "Si el precio actual es mayor/igual que el precio promedio y la tendencia es de baja, entonces guarda el valor ‘Vender’.\n",
    "Si el precio actual es menor que el precio promedio y la tendencia es de alta, entonces guarda el valor ‘Comprar’.\n",
    "Si ninguna de las 2 condiciones anteriores se cumple, entonces guarda el valor ''.\n",
    "Extra\n",
    "Este es un algoritmo de decisión simple que ayuda a los clientes inexpertos a conocer el mejor momento de comprar\n",
    "o vender Bitcoin, ¿crees que existan otros indicadores en la base o en el site de noticias o algún criterio de \n",
    "decisión adicional que ayudaría a reforzar el algoritmo de decisión? Te invito a descubrir otras alternativas.\n"
   ]
  },
  {
   "cell_type": "code",
   "execution_count": 14,
   "id": "c80ebb34-13e7-424a-a51d-28916ba411b9",
   "metadata": {},
   "outputs": [
    {
     "name": "stdout",
     "output_type": "stream",
     "text": [
      "Precio actual: 67702.95, Precio promedio: 62918.98563415751, Tendencia: alta, Decisión: \n"
     ]
    }
   ],
   "source": [
    "def tomar_decisiones():\n",
    "    global df_bitcoin, precio_actual, tendencia, media_bitcoin, algoritmo_decision\n",
    "    # Obtener el último precio de cierre del DataFrame\n",
    "    #precio_actual = df_bitcoin['Close'].iloc[-1]\n",
    "    \n",
    "    # Lógica de toma de decisiones\n",
    "    if precio_actual >= media_bitcoin and tendencia == 'baja':\n",
    "        algoritmo_decision = 'Vender'\n",
    "    elif precio_actual < media_bitcoin and tendencia == 'alta':\n",
    "        algoritmo_decision = 'Comprar'\n",
    "    else:\n",
    "        algoritmo_decision = ''\n",
    "    \n",
    "    # Imprimir la decisión\n",
    "    print(f\"Precio actual: {precio_actual}, Precio promedio: {media_bitcoin}, Tendencia: {tendencia}, Decisión: {algoritmo_decision}\")\n",
    "tomar_decisiones()"
   ]
  },
  {
   "cell_type": "code",
   "execution_count": null,
   "id": "932c95d6-3382-473c-8c58-059d02437ed8",
   "metadata": {},
   "outputs": [],
   "source": []
  },
  {
   "cell_type": "markdown",
   "id": "4f3d45d7-b12e-491c-8dfb-a865a15357f9",
   "metadata": {},
   "source": [
    "# 5. Visualización"
   ]
  },
  {
   "cell_type": "code",
   "execution_count": 15,
   "id": "1fac6188-8425-49ac-aab6-9191fa7928fb",
   "metadata": {},
   "outputs": [
    {
     "ename": "SyntaxError",
     "evalue": "invalid syntax (4081888310.py, line 1)",
     "output_type": "error",
     "traceback": [
      "\u001b[0;36m  Cell \u001b[0;32mIn[15], line 1\u001b[0;36m\u001b[0m\n\u001b[0;31m    Si el precio actual es mayor/igual que el precio promedio y la tendencia es de baja, entonces guarda el valor ‘Vender’.\u001b[0m\n\u001b[0m       ^\u001b[0m\n\u001b[0;31mSyntaxError\u001b[0m\u001b[0;31m:\u001b[0m invalid syntax\n"
     ]
    }
   ],
   "source": [
    "Si el precio actual es mayor/igual que el precio promedio y la tendencia es de baja, entonces guarda el valor ‘Vender’.\n",
    "Si el precio actual es menor que el precio promedio y la tendencia es de alta, entonces guarda el valor ‘Comprar’.\n",
    "Si ninguna de las 2 condiciones anteriores se cumple, entonces guarda el valor ''."
   ]
  },
  {
   "cell_type": "code",
   "execution_count": null,
   "id": "26367f83-8102-4c8d-b271-64648a22c27b",
   "metadata": {},
   "outputs": [],
   "source": []
  },
  {
   "cell_type": "code",
   "execution_count": 16,
   "id": "3ac039a4-e301-4552-9559-987a73d35e00",
   "metadata": {},
   "outputs": [
    {
     "name": "stdout",
     "output_type": "stream",
     "text": [
      "Precio actual: 67702.95, Precio promedio: 62918.98563415751, Tendencia: alta, Decisión: \n"
     ]
    },
    {
     "data": {
      "image/png": "[encoded data removed]",
      "text/plain": [
       "<Figure size 1600x500 with 1 Axes>"
      ]
     },
     "metadata": {},
     "output_type": "display_data"
    }
   ],
   "source": [
    "def visualizacion():\n",
    "    import matplotlib.pyplot as plt\n",
    "    import matplotlib.dates as mdates\n",
    "    global df_bitcoin, media_bitcoin, algoritmo_decision\n",
    "    \n",
    "    # Crear una nueva columna en df_bitcoin y llenar con los valores del promedio\n",
    "    df_bitcoin['Promedio'] = media_bitcoin\n",
    "    \n",
    "    # Configurar el tamaño del gráfico\n",
    "    plt.figure(figsize=(16, 5))\n",
    "    \n",
    "    # Dibujar una línea con los datos de la columna 'Close' usando el índice como eje x\n",
    "    plt.plot(df_bitcoin.index, df_bitcoin['Close'], label='Close')\n",
    "    \n",
    "    # Dibujar una línea con los datos de la columna 'Promedio'\n",
    "    plt.plot(df_bitcoin.index, df_bitcoin['Promedio'], label='Promedio')\n",
    "    \n",
    "    # Agregar un título al gráfico\n",
    "    plt.title('Precio del Bitcoin', fontsize=14, color='black')\n",
    "    \n",
    "    # Mostrar un mensaje con la decisión en el gráfico\n",
    "    plt.annotate(f'Decisión: {algoritmo_decision}', \n",
    "                 xy=(df_bitcoin.index[-1], df_bitcoin['Close'].iloc[-1]),  # posición en el gráfico\n",
    "                 xytext=(-100, 20),  # desplazamiento del texto\n",
    "                 textcoords='offset points',  # usar el desplazamiento en puntos\n",
    "                 fontsize=12, color='red', \n",
    "                 ha='left', va='center',  # alineación horizontal y vertical\n",
    "                 arrowprops=dict(facecolor='black', shrink=0.05))  # agregar una flecha\n",
    "    \n",
    "    # Configurar el formato de las fechas en el eje x\n",
    "    plt.gca().xaxis.set_major_locator(mdates.DayLocator(interval=1))\n",
    "    plt.gca().xaxis.set_major_formatter(mdates.DateFormatter('%Y-%m-%d %H:%M:%S'))\n",
    "    \n",
    "    # Rotar las etiquetas del eje x para mejorar la legibilidad\n",
    "    plt.xticks(rotation=45)\n",
    "    \n",
    "    # Agregar una leyenda para las líneas\n",
    "    plt.legend()\n",
    "    \n",
    "    # Mostrar el gráfico en pantalla\n",
    "    plt.show()\n",
    "\n",
    "# Llamamos a la función de toma de decisiones\n",
    "tomar_decisiones()\n",
    "\n",
    "# Llamamos a la función de visualización\n",
    "visualizacion()\n"
   ]
  },
  {
   "cell_type": "code",
   "execution_count": null,
   "id": "fce75b08-c02a-48c4-89d2-da3d69b343bb",
   "metadata": {},
   "outputs": [],
   "source": []
  },
  {
   "cell_type": "code",
   "execution_count": 83,
   "id": "a71685c7-0f8b-4d15-a354-e3913aa3c9aa",
   "metadata": {},
   "outputs": [
    {
     "data": {
      "text/plain": [
       "Open         float64\n",
       "High         float64\n",
       "Low          float64\n",
       "Close        float64\n",
       "Adj Close    float64\n",
       "Volume         int64\n",
       "Promedio     float64\n",
       "DateStr       object\n",
       "dtype: object"
      ]
     },
     "execution_count": 83,
     "metadata": {},
     "output_type": "execute_result"
    }
   ],
   "source": [
    "df_bitcoin.dtypes"
   ]
  },
  {
   "cell_type": "markdown",
   "id": "8448da7c-4fa6-4915-a46d-c8f7d85495ea",
   "metadata": {},
   "source": [
    "# 6. Automatización"
   ]
  },
  {
   "cell_type": "code",
   "execution_count": null,
   "id": "9cc31ab5-7ac1-4481-85fc-351ac49ed309",
   "metadata": {},
   "outputs": [],
   "source": [
    "# Llamamos a todas las funciones con un delay de 300 segundos!!!!\n",
    "# Esto permite que el script actualice y muestre los datos periódicamente cada 5 minutos.\n",
    "# El código tiene una estructura try...except que maneja excepciones y muestra fallo en caso de un error.\n",
    "while(True):\n",
    "  try:\n",
    "   \n",
    "   #clear_output()\n",
    "   importar_base_bitcoin()\n",
    "   extraer_tendencias()\n",
    "   limpieza_datos()\n",
    "   tomar_decisiones()\n",
    "   visualizacion()\n",
    "   #resumen_operaciones()\n",
    "   time.sleep(300)\n",
    "  except:\n",
    "   print(\"fallo\")"
   ]
  },
  {
   "cell_type": "code",
   "execution_count": null,
   "id": "29dd4538-8de2-455f-98b0-c34f3f807b87",
   "metadata": {},
   "outputs": [],
   "source": []
  }
 ],
 "metadata": {
  "kernelspec": {
   "display_name": "Python 3 (ipykernel)",
   "language": "python",
   "name": "python3"
  },
  "language_info": {
   "codemirror_mode": {
    "name": "ipython",
    "version": 3
   },
   "file_extension": ".py",
   "mimetype": "text/x-python",
   "name": "python",
   "nbconvert_exporter": "python",
   "pygments_lexer": "ipython3",
   "version": "3.8.10"
  }
 },
 "nbformat": 4,
 "nbformat_minor": 5
}
